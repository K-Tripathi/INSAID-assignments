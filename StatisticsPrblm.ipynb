{
 "cells": [
  {
   "cell_type": "code",
   "execution_count": 2,
   "id": "1814cdba",
   "metadata": {},
   "outputs": [
    {
     "data": {
      "text/plain": [
       "50"
      ]
     },
     "execution_count": 2,
     "metadata": {},
     "output_type": "execute_result"
    }
   ],
   "source": [
    "import statistics\n",
    "#Prblm1\n",
    "list_in = [10, 20, 30, 40, 50, 60, 70, 80, 90]\n",
    "statistics.mean(list_in)"
   ]
  },
  {
   "cell_type": "code",
   "execution_count": 3,
   "id": "9bacd75c",
   "metadata": {},
   "outputs": [
    {
     "data": {
      "text/plain": [
       "3"
      ]
     },
     "execution_count": 3,
     "metadata": {},
     "output_type": "execute_result"
    }
   ],
   "source": [
    "#Prblm2.a\n",
    "odd_count = [1, 2, 3, 4, 5]\n",
    "statistics.median(odd_count)"
   ]
  },
  {
   "cell_type": "code",
   "execution_count": 4,
   "id": "eb9b5648",
   "metadata": {},
   "outputs": [
    {
     "data": {
      "text/plain": [
       "3.5"
      ]
     },
     "execution_count": 4,
     "metadata": {},
     "output_type": "execute_result"
    }
   ],
   "source": [
    "#Prblm2.b\n",
    "even_count = [1, 2, 3, 4, 5, 6]\n",
    "statistics.median(even_count)"
   ]
  },
  {
   "cell_type": "code",
   "execution_count": 6,
   "id": "2ce16573",
   "metadata": {},
   "outputs": [
    {
     "data": {
      "text/plain": [
       "5.36"
      ]
     },
     "execution_count": 6,
     "metadata": {},
     "output_type": "execute_result"
    }
   ],
   "source": [
    "#Prblm3\n",
    "list_variance = [4, 5, 8, 9, 10]\n",
    "statistics.pvariance(list_variance)"
   ]
  },
  {
   "cell_type": "code",
   "execution_count": 7,
   "id": "4c229b36",
   "metadata": {},
   "outputs": [
    {
     "name": "stdout",
     "output_type": "stream",
     "text": [
      "Help on function variance in module statistics:\n",
      "\n",
      "variance(data, xbar=None)\n",
      "    Return the sample variance of data.\n",
      "    \n",
      "    data should be an iterable of Real-valued numbers, with at least two\n",
      "    values. The optional argument xbar, if given, should be the mean of\n",
      "    the data. If it is missing or None, the mean is automatically calculated.\n",
      "    \n",
      "    Use this function when your data is a sample from a population. To\n",
      "    calculate the variance from the entire population, see ``pvariance``.\n",
      "    \n",
      "    Examples:\n",
      "    \n",
      "    >>> data = [2.75, 1.75, 1.25, 0.25, 0.5, 1.25, 3.5]\n",
      "    >>> variance(data)\n",
      "    1.3720238095238095\n",
      "    \n",
      "    If you have already calculated the mean of your data, you can pass it as\n",
      "    the optional second argument ``xbar`` to avoid recalculating it:\n",
      "    \n",
      "    >>> m = mean(data)\n",
      "    >>> variance(data, m)\n",
      "    1.3720238095238095\n",
      "    \n",
      "    This function does not check that ``xbar`` is actually the mean of\n",
      "    ``data``. Giving arbitrary values for ``xbar`` may lead to invalid or\n",
      "    impossible results.\n",
      "    \n",
      "    Decimals and Fractions are supported:\n",
      "    \n",
      "    >>> from decimal import Decimal as D\n",
      "    >>> variance([D(\"27.5\"), D(\"30.25\"), D(\"30.25\"), D(\"34.5\"), D(\"41.75\")])\n",
      "    Decimal('31.01875')\n",
      "    \n",
      "    >>> from fractions import Fraction as F\n",
      "    >>> variance([F(1, 6), F(1, 2), F(5, 3)])\n",
      "    Fraction(67, 108)\n",
      "\n"
     ]
    }
   ],
   "source": [
    "help(statistics.variance)"
   ]
  },
  {
   "cell_type": "code",
   "execution_count": null,
   "id": "e2f4561e",
   "metadata": {},
   "outputs": [],
   "source": []
  }
 ],
 "metadata": {
  "kernelspec": {
   "display_name": "Python 3 (ipykernel)",
   "language": "python",
   "name": "python3"
  },
  "language_info": {
   "codemirror_mode": {
    "name": "ipython",
    "version": 3
   },
   "file_extension": ".py",
   "mimetype": "text/x-python",
   "name": "python",
   "nbconvert_exporter": "python",
   "pygments_lexer": "ipython3",
   "version": "3.9.12"
  }
 },
 "nbformat": 4,
 "nbformat_minor": 5
}
